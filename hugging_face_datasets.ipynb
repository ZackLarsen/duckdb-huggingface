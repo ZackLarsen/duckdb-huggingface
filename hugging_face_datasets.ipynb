{
 "cells": [
  {
   "cell_type": "code",
   "execution_count": 23,
   "metadata": {},
   "outputs": [],
   "source": [
    "import requests\n",
    "import duckdb\n",
    "import pyarrow as pa\n",
    "import pyarrow.dataset as ds\n",
    "from datasets import load_dataset, get_dataset_split_names # Huggingface datasets"
   ]
  },
  {
   "cell_type": "code",
   "execution_count": 9,
   "metadata": {},
   "outputs": [],
   "source": [
    "r = requests.get(\"https://datasets-server.huggingface.co/parquet?dataset=blog_authorship_corpus\")\n",
    "j = r.json()\n",
    "urls = [f['url'] for f in j['parquet_files'] if f['split'] == 'train']"
   ]
  },
  {
   "cell_type": "code",
   "execution_count": 10,
   "metadata": {},
   "outputs": [
    {
     "data": {
      "text/plain": [
       "['https://huggingface.co/datasets/blog_authorship_corpus/resolve/refs%2Fconvert%2Fparquet/blog_authorship_corpus/blog_authorship_corpus-train-00000-of-00002.parquet',\n",
       " 'https://huggingface.co/datasets/blog_authorship_corpus/resolve/refs%2Fconvert%2Fparquet/blog_authorship_corpus/blog_authorship_corpus-train-00001-of-00002.parquet']"
      ]
     },
     "execution_count": 10,
     "metadata": {},
     "output_type": "execute_result"
    }
   ],
   "source": [
    "urls"
   ]
  },
  {
   "cell_type": "code",
   "execution_count": 5,
   "metadata": {},
   "outputs": [
    {
     "data": {
      "text/plain": [
       "<duckdb.DuckDBPyConnection at 0x106da50f0>"
      ]
     },
     "execution_count": 5,
     "metadata": {},
     "output_type": "execute_result"
    }
   ],
   "source": [
    "url = \"https://huggingface.co/datasets/blog_authorship_corpus/resolve/refs%2Fconvert%2Fparquet/blog_authorship_corpus/blog_authorship_corpus-train-00000-of-00002.parquet\"\n",
    "\n",
    "con = duckdb.connect()\n",
    "con.execute(\"INSTALL httpfs;\")\n",
    "con.execute(\"LOAD httpfs;\")"
   ]
  },
  {
   "cell_type": "code",
   "execution_count": 6,
   "metadata": {},
   "outputs": [
    {
     "data": {
      "application/vnd.jupyter.widget-view+json": {
       "model_id": "532635f076c84736bc533dc24f4d2435",
       "version_major": 2,
       "version_minor": 0
      },
      "text/plain": [
       "FloatProgress(value=0.0, layout=Layout(width='auto'), style=ProgressStyle(bar_color='black'))"
      ]
     },
     "metadata": {},
     "output_type": "display_data"
    },
    {
     "data": {
      "text/plain": [
       "┌───────────┬──────────────┬────────────────────┐\n",
       "│ horoscope │ count_star() │  avg_blog_length   │\n",
       "│  varchar  │    int64     │       double       │\n",
       "├───────────┼──────────────┼────────────────────┤\n",
       "│ Aquarius  │        34062 │  1129.218836239798 │\n",
       "│ Cancer    │        41509 │  1098.366812016671 │\n",
       "│ Capricorn │        33961 │ 1073.2002002296751 │\n",
       "│ Libra     │        40302 │ 1072.0718326633914 │\n",
       "│ Leo       │        40587 │ 1064.0536871412028 │\n",
       "└───────────┴──────────────┴────────────────────┘"
      ]
     },
     "execution_count": 6,
     "metadata": {},
     "output_type": "execute_result"
    }
   ],
   "source": [
    "con.sql(f\"\"\"SELECT horoscope, \n",
    "    count(*), \n",
    "    AVG(LENGTH(text)) AS avg_blog_length \n",
    "    FROM '{url}' \n",
    "    GROUP BY horoscope \n",
    "    ORDER BY avg_blog_length \n",
    "    DESC LIMIT(5)\"\"\"\n",
    ")"
   ]
  },
  {
   "cell_type": "code",
   "execution_count": null,
   "metadata": {},
   "outputs": [],
   "source": []
  },
  {
   "cell_type": "code",
   "execution_count": null,
   "metadata": {},
   "outputs": [],
   "source": []
  },
  {
   "cell_type": "code",
   "execution_count": 7,
   "metadata": {},
   "outputs": [],
   "source": []
  },
  {
   "cell_type": "code",
   "execution_count": 13,
   "metadata": {},
   "outputs": [
    {
     "ename": "RuntimeError",
     "evalue": "IO Error: HTTP GET error: Content-Length from server mismatches requested range, server may not support range requests.",
     "output_type": "error",
     "traceback": [
      "\u001b[0;31m---------------------------------------------------------------------------\u001b[0m",
      "\u001b[0;31mRuntimeError\u001b[0m                              Traceback (most recent call last)",
      "Cell \u001b[0;32mIn[13], line 3\u001b[0m\n\u001b[1;32m      1\u001b[0m url \u001b[39m=\u001b[39m \u001b[39m\"\u001b[39m\u001b[39mhttps://huggingface.co/datasets/birkhoffg/folktables-acs-income/blob/main/data/train-00000-of-00002-a71537175a4688ae.parquet\u001b[39m\u001b[39m\"\u001b[39m\n\u001b[0;32m----> 3\u001b[0m con\u001b[39m.\u001b[39;49msql(\u001b[39mf\u001b[39;49m\u001b[39m\"\"\"\u001b[39;49m\u001b[39mSELECT\u001b[39;49m\n\u001b[1;32m      4\u001b[0m \u001b[39m    count(*), \u001b[39;49m\n\u001b[1;32m      5\u001b[0m \u001b[39m    AVG(LENGTH(STATE)) AS avg_state_length\u001b[39;49m\n\u001b[1;32m      6\u001b[0m \u001b[39m    FROM \u001b[39;49m\u001b[39m'\u001b[39;49m\u001b[39m{\u001b[39;49;00murl\u001b[39m}\u001b[39;49;00m\u001b[39m'\u001b[39;49m\u001b[39m \u001b[39;49m\n\u001b[1;32m      7\u001b[0m \u001b[39m    ORDER BY avg_state_length \u001b[39;49m\n\u001b[1;32m      8\u001b[0m \u001b[39m    DESC LIMIT(5)\u001b[39;49m\u001b[39m\"\"\"\u001b[39;49m\n\u001b[1;32m      9\u001b[0m )\n",
      "\u001b[0;31mRuntimeError\u001b[0m: IO Error: HTTP GET error: Content-Length from server mismatches requested range, server may not support range requests."
     ]
    }
   ],
   "source": [
    "url = \"https://huggingface.co/datasets/birkhoffg/folktables-acs-income/blob/main/data/train-00000-of-00002-a71537175a4688ae.parquet\"\n",
    "\n",
    "con.sql(f\"\"\"SELECT\n",
    "    count(*), \n",
    "    AVG(LENGTH(STATE)) AS avg_state_length\n",
    "    FROM '{url}' \n",
    "    ORDER BY avg_state_length \n",
    "    DESC LIMIT(5)\"\"\"\n",
    ")"
   ]
  },
  {
   "cell_type": "code",
   "execution_count": null,
   "metadata": {},
   "outputs": [],
   "source": []
  },
  {
   "cell_type": "code",
   "execution_count": null,
   "metadata": {},
   "outputs": [],
   "source": []
  },
  {
   "cell_type": "markdown",
   "metadata": {},
   "source": [
    "## Load dataset"
   ]
  },
  {
   "cell_type": "code",
   "execution_count": 26,
   "metadata": {},
   "outputs": [
    {
     "data": {
      "text/plain": [
       "['train', 'test']"
      ]
     },
     "execution_count": 26,
     "metadata": {},
     "output_type": "execute_result"
    }
   ],
   "source": [
    "get_dataset_split_names(\"birkhoffg/folktables-acs-income\")"
   ]
  },
  {
   "cell_type": "code",
   "execution_count": 15,
   "metadata": {},
   "outputs": [
    {
     "data": {
      "application/vnd.jupyter.widget-view+json": {
       "model_id": "b322475285874249817b39e4b4c49a1b",
       "version_major": 2,
       "version_minor": 0
      },
      "text/plain": [
       "Downloading readme:   0%|          | 0.00/989 [00:00<?, ?B/s]"
      ]
     },
     "metadata": {},
     "output_type": "display_data"
    },
    {
     "data": {
      "application/vnd.jupyter.widget-view+json": {
       "model_id": "aa8126c0066e4bbaa910b31c832a94ce",
       "version_major": 2,
       "version_minor": 0
      },
      "text/plain": [
       "Downloading data files:   0%|          | 0/2 [00:00<?, ?it/s]"
      ]
     },
     "metadata": {},
     "output_type": "display_data"
    },
    {
     "data": {
      "application/vnd.jupyter.widget-view+json": {
       "model_id": "e6a3b6043375494ea9fb080bf658655b",
       "version_major": 2,
       "version_minor": 0
      },
      "text/plain": [
       "Downloading data:   0%|          | 0.00/74.0M [00:00<?, ?B/s]"
      ]
     },
     "metadata": {},
     "output_type": "display_data"
    },
    {
     "data": {
      "application/vnd.jupyter.widget-view+json": {
       "model_id": "2dd11a89a59246ea80cdc9d1352dde06",
       "version_major": 2,
       "version_minor": 0
      },
      "text/plain": [
       "Downloading data:   0%|          | 0.00/74.0M [00:00<?, ?B/s]"
      ]
     },
     "metadata": {},
     "output_type": "display_data"
    },
    {
     "data": {
      "application/vnd.jupyter.widget-view+json": {
       "model_id": "f0da5704819043e593556872ac9785b5",
       "version_major": 2,
       "version_minor": 0
      },
      "text/plain": [
       "Downloading data:   0%|          | 0.00/49.3M [00:00<?, ?B/s]"
      ]
     },
     "metadata": {},
     "output_type": "display_data"
    },
    {
     "data": {
      "application/vnd.jupyter.widget-view+json": {
       "model_id": "3d6991c1b9a84021a48469f341058cc1",
       "version_major": 2,
       "version_minor": 0
      },
      "text/plain": [
       "Extracting data files:   0%|          | 0/2 [00:00<?, ?it/s]"
      ]
     },
     "metadata": {},
     "output_type": "display_data"
    },
    {
     "data": {
      "application/vnd.jupyter.widget-view+json": {
       "model_id": "20473a86ca4a48cba5fd6de1bb0d0ef1",
       "version_major": 2,
       "version_minor": 0
      },
      "text/plain": [
       "Generating train split:   0%|          | 0/7345626 [00:00<?, ? examples/s]"
      ]
     },
     "metadata": {},
     "output_type": "display_data"
    },
    {
     "data": {
      "application/vnd.jupyter.widget-view+json": {
       "model_id": "b5def968e43e4e87abc5348e1a289537",
       "version_major": 2,
       "version_minor": 0
      },
      "text/plain": [
       "Generating test split:   0%|          | 0/2448543 [00:00<?, ? examples/s]"
      ]
     },
     "metadata": {},
     "output_type": "display_data"
    }
   ],
   "source": [
    "dataset = load_dataset(\"birkhoffg/folktables-acs-income\", split=\"train\")"
   ]
  },
  {
   "cell_type": "code",
   "execution_count": 16,
   "metadata": {},
   "outputs": [
    {
     "data": {
      "text/plain": [
       "Dataset({\n",
       "    features: ['AGEP', 'COW', 'SCHL', 'MAR', 'OCCP', 'POBP', 'RELP', 'WKHP', 'SEX', 'RAC1P', 'STATE', 'YEAR', 'PINCP', '__index_level_0__'],\n",
       "    num_rows: 7345626\n",
       "})"
      ]
     },
     "execution_count": 16,
     "metadata": {},
     "output_type": "execute_result"
    }
   ],
   "source": [
    "dataset"
   ]
  },
  {
   "cell_type": "code",
   "execution_count": 17,
   "metadata": {},
   "outputs": [
    {
     "data": {
      "text/plain": [
       "datasets.arrow_dataset.Dataset"
      ]
     },
     "execution_count": 17,
     "metadata": {},
     "output_type": "execute_result"
    }
   ],
   "source": [
    "type(dataset)"
   ]
  },
  {
   "cell_type": "code",
   "execution_count": 28,
   "metadata": {},
   "outputs": [
    {
     "data": {
      "text/plain": [
       "{'AGEP': 29.0,\n",
       " 'COW': 1.0,\n",
       " 'SCHL': 16.0,\n",
       " 'MAR': 1.0,\n",
       " 'OCCP': 4920.0,\n",
       " 'POBP': 12.0,\n",
       " 'RELP': 1.0,\n",
       " 'WKHP': 30.0,\n",
       " 'SEX': 2.0,\n",
       " 'RAC1P': 8.0,\n",
       " 'STATE': 'FL',\n",
       " 'YEAR': 2018,\n",
       " 'PINCP': 0.0,\n",
       " '__index_level_0__': 98618}"
      ]
     },
     "execution_count": 28,
     "metadata": {},
     "output_type": "execute_result"
    }
   ],
   "source": [
    "dataset[0]"
   ]
  },
  {
   "cell_type": "code",
   "execution_count": 32,
   "metadata": {},
   "outputs": [],
   "source": [
    "# Connect to DuckDB\n",
    "con = duckdb.connect()"
   ]
  },
  {
   "cell_type": "code",
   "execution_count": 33,
   "metadata": {},
   "outputs": [
    {
     "data": {
      "text/plain": [
       "<duckdb.DuckDBPyConnection at 0x2c2fd1d30>"
      ]
     },
     "execution_count": 33,
     "metadata": {},
     "output_type": "execute_result"
    }
   ],
   "source": [
    "# Create a table in DuckDB\n",
    "con.execute(\"CREATE TABLE folktables (state VARCHAR, income INT)\")"
   ]
  },
  {
   "cell_type": "code",
   "execution_count": 36,
   "metadata": {},
   "outputs": [
    {
     "ename": "KeyError",
     "evalue": "'INCOME'",
     "output_type": "error",
     "traceback": [
      "\u001b[0;31m---------------------------------------------------------------------------\u001b[0m",
      "\u001b[0;31mKeyError\u001b[0m                                  Traceback (most recent call last)",
      "Cell \u001b[0;32mIn[36], line 3\u001b[0m\n\u001b[1;32m      1\u001b[0m \u001b[39m# Insert the data into the table\u001b[39;00m\n\u001b[1;32m      2\u001b[0m \u001b[39mfor\u001b[39;00m row \u001b[39min\u001b[39;00m dataset:\n\u001b[0;32m----> 3\u001b[0m     con\u001b[39m.\u001b[39mexecute(\u001b[39mf\u001b[39m\u001b[39m\"\u001b[39m\u001b[39mINSERT INTO folktables VALUES (\u001b[39m\u001b[39m'\u001b[39m\u001b[39m{\u001b[39;00mrow[\u001b[39m'\u001b[39m\u001b[39mSTATE\u001b[39m\u001b[39m'\u001b[39m]\u001b[39m}\u001b[39;00m\u001b[39m'\u001b[39m\u001b[39m, \u001b[39m\u001b[39m{\u001b[39;00mrow[\u001b[39m'\u001b[39;49m\u001b[39mINCOME\u001b[39;49m\u001b[39m'\u001b[39;49m]\u001b[39m}\u001b[39;00m\u001b[39m)\u001b[39m\u001b[39m\"\u001b[39m)\n",
      "\u001b[0;31mKeyError\u001b[0m: 'INCOME'"
     ]
    }
   ],
   "source": [
    "# Insert the data into the table\n",
    "for row in dataset:\n",
    "    con.execute(f\"INSERT INTO folktables VALUES ('{row['STATE']}', {row['INCOME']})\")"
   ]
  },
  {
   "cell_type": "code",
   "execution_count": 37,
   "metadata": {},
   "outputs": [],
   "source": [
    "# Query the data\n",
    "result = con.execute(\"\"\"\n",
    "    SELECT COUNT(*)\n",
    "    ,AVG(LENGTH(state)) AS avg_state_length\n",
    "    FROM folktables\n",
    "    ORDER BY avg_state_length DESC\n",
    "    LIMIT 5\n",
    "\"\"\")\n"
   ]
  },
  {
   "cell_type": "code",
   "execution_count": 38,
   "metadata": {},
   "outputs": [
    {
     "data": {
      "text/plain": [
       "<duckdb.DuckDBPyConnection at 0x2c2fd1d30>"
      ]
     },
     "execution_count": 38,
     "metadata": {},
     "output_type": "execute_result"
    }
   ],
   "source": [
    "result"
   ]
  },
  {
   "cell_type": "code",
   "execution_count": null,
   "metadata": {},
   "outputs": [],
   "source": []
  },
  {
   "cell_type": "code",
   "execution_count": 20,
   "metadata": {},
   "outputs": [
    {
     "ename": "AttributeError",
     "evalue": "'Dataset' object has no attribute 'to_arrow'",
     "output_type": "error",
     "traceback": [
      "\u001b[0;31m---------------------------------------------------------------------------\u001b[0m",
      "\u001b[0;31mAttributeError\u001b[0m                            Traceback (most recent call last)",
      "Cell \u001b[0;32mIn[20], line 1\u001b[0m\n\u001b[0;32m----> 1\u001b[0m dataset\u001b[39m.\u001b[39;49mto_arrow(\u001b[39m'\u001b[39m\u001b[39mdata.arrow\u001b[39m\u001b[39m'\u001b[39m)\n",
      "\u001b[0;31mAttributeError\u001b[0m: 'Dataset' object has no attribute 'to_arrow'"
     ]
    }
   ],
   "source": [
    "dataset.to_arrow('data.arrow')\n",
    "\n",
    "nyc = ds.dataset('nyc-taxi/', partitioning=[\"year\", \"month\"])"
   ]
  },
  {
   "cell_type": "code",
   "execution_count": 19,
   "metadata": {},
   "outputs": [
    {
     "ename": "InvalidInputException",
     "evalue": "Invalid Input Error: Python Object \"dataset\" of type \"Dataset\" found on line \"/var/folders/g7/822123tx4gn6ndvw2jgh5f140000gn/T/ipykernel_99615/1421186819.py:1\" not suitable for replacement scans.\nMake sure that \"dataset\" is either a pandas.DataFrame, duckdb.DuckDBPyRelation, pyarrow Table, Dataset, RecordBatchReader, Scanner, or NumPy ndarrays with supported format",
     "output_type": "error",
     "traceback": [
      "\u001b[0;31m---------------------------------------------------------------------------\u001b[0m",
      "\u001b[0;31mInvalidInputException\u001b[0m                     Traceback (most recent call last)",
      "Cell \u001b[0;32mIn[19], line 1\u001b[0m\n\u001b[0;32m----> 1\u001b[0m duckdb\u001b[39m.\u001b[39;49msql(\u001b[39m\"\"\"\u001b[39;49m\u001b[39mSELECT * FROM dataset LIMIT 10\u001b[39;49m\u001b[39m\"\"\"\u001b[39;49m)\n",
      "\u001b[0;31mInvalidInputException\u001b[0m: Invalid Input Error: Python Object \"dataset\" of type \"Dataset\" found on line \"/var/folders/g7/822123tx4gn6ndvw2jgh5f140000gn/T/ipykernel_99615/1421186819.py:1\" not suitable for replacement scans.\nMake sure that \"dataset\" is either a pandas.DataFrame, duckdb.DuckDBPyRelation, pyarrow Table, Dataset, RecordBatchReader, Scanner, or NumPy ndarrays with supported format"
     ]
    }
   ],
   "source": [
    "duckdb.sql(\"\"\"SELECT * FROM dataset LIMIT 10\"\"\")"
   ]
  }
 ],
 "metadata": {
  "kernelspec": {
   "display_name": "duckdb_huggingface",
   "language": "python",
   "name": "python3"
  },
  "language_info": {
   "codemirror_mode": {
    "name": "ipython",
    "version": 3
   },
   "file_extension": ".py",
   "mimetype": "text/x-python",
   "name": "python",
   "nbconvert_exporter": "python",
   "pygments_lexer": "ipython3",
   "version": "3.10.12"
  },
  "orig_nbformat": 4
 },
 "nbformat": 4,
 "nbformat_minor": 2
}
